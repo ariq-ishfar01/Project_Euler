{
 "cells": [
  {
   "cell_type": "markdown",
   "metadata": {},
   "source": [
    "# A sample of Project Euler problems I had solved."
   ]
  },
  {
   "cell_type": "code",
   "execution_count": 3,
   "metadata": {},
   "outputs": [
    {
     "name": "stdout",
     "output_type": "stream",
     "text": [
      "104743\n"
     ]
    }
   ],
   "source": [
    "# Problem 7\n",
    "\n",
    "# https://projecteuler.net/problem=7\n",
    "\n",
    "# What is the 10001st prime number?\n",
    "\n",
    "\n",
    "import math as m\n",
    "\n",
    "def prime(x: int) -> bool:\n",
    "    assert x > 0\n",
    "\n",
    "    if (x == 1):\n",
    "        return False\n",
    "\n",
    "    for n in range(2, round(m.sqrt(x)) + 1):  # Checking upto the square root of x improves the efficiency \n",
    "        if (x % n == 0):                      # of this from O(n) to O(n^1/2)\n",
    "            return False\n",
    "\n",
    "    \n",
    "    return True\n",
    "\n",
    "\n",
    "current_prime = 3\n",
    "no = 1\n",
    "\n",
    "while (True):\n",
    "    if (prime(current_prime)):\n",
    "        no += 1\n",
    "    \n",
    "\n",
    "    if (no == 10001):\n",
    "        break\n",
    "\n",
    "    current_prime += 2  # Skips even numbers, speeding up the solution time\n",
    "\n",
    "\n",
    "print(current_prime)\n",
    "\n",
    "# Answer is 104743\n"
   ]
  },
  {
   "cell_type": "code",
   "execution_count": 30,
   "metadata": {},
   "outputs": [
    {
     "name": "stdout",
     "output_type": "stream",
     "text": [
      "837799\n",
      "525\n"
     ]
    }
   ],
   "source": [
    "# Problem 14\n",
    "\n",
    "# https://projecteuler.net/problem=14\n",
    "\n",
    "# Which number under 1000000 has the longest Collatz chain?\n",
    "\n",
    "\n",
    "def Collatz(x: int) -> int:\n",
    "    if (x % 2 == 0):\n",
    "        return x // 2\n",
    "    else:\n",
    "        return (3 * x) + 1\n",
    "\n",
    "\n",
    "def Collatz_chain(x: int) -> None:\n",
    "    if (x == 4):        # This algorithm makes assumption about the 4-2-1 loops\n",
    "        print(4)\n",
    "        print(2)\n",
    "        print(1)        # as the Collatz conjecture has been verified upto\n",
    "    elif (x == 2):      # 2^68\n",
    "        print(2)\n",
    "        print(1)\n",
    "    elif (x == 1):\n",
    "        print(1)\n",
    "    else:\n",
    "        print(x)\n",
    "        Collatz_chain(Collatz(x))\n",
    "\n",
    "\n",
    "def Collatz_len(x: int) -> int:\n",
    "    if (x == 4):        # This algorithm makes assumption about the 4-2-1 loops\n",
    "        return 3        # as the Collatz conjecture has been verified upto\n",
    "    elif (x == 2):      # 2^68, which is well above any term reached.\n",
    "        return 2\n",
    "    elif (x == 1):\n",
    "        return 1\n",
    "    else:\n",
    "        return 1 + Collatz_len(Collatz(x))\n",
    "\n",
    "max_chain = 0\n",
    "max_len = 0\n",
    "\n",
    "for x in range(1, 1000000):\n",
    "    current_len = Collatz_len(x)\n",
    "\n",
    "    if (current_len > max_len):\n",
    "        max_len = current_len\n",
    "        max_chain = x\n",
    "\n",
    "\n",
    "print(max_chain)\n",
    "print(max_len)\n",
    "\n",
    "# The answer is 837799 with 525 terms in its chain.\n"
   ]
  },
  {
   "cell_type": "code",
   "execution_count": 37,
   "metadata": {},
   "outputs": [
    {
     "name": "stdout",
     "output_type": "stream",
     "text": [
      "1074\n"
     ]
    }
   ],
   "source": [
    "# Problem 18\n",
    "\n",
    "# https://projecteuler.net/problem=18\n",
    "\n",
    "# Find the maximum total from top to bottom of the triangle below:\n",
    "\n",
    "from random import triangular\n",
    "\n",
    "\n",
    "triangle = [[75],\n",
    "[95, 64],\n",
    "[17, 47, 82],\n",
    "[18, 35, 87, 10],\n",
    "[20, 4, 82, 47, 65],\n",
    "[19, 1, 23, 75, 3, 34],\n",
    "[88, 2, 77, 73, 7, 63, 67],\n",
    "[99, 65, 4, 28, 6, 16, 70, 92],\n",
    "[41, 41, 26, 56, 83, 40, 80, 70, 33],\n",
    "[41, 48, 72, 33, 47, 32, 37, 16, 94, 29],\n",
    "[53, 71, 44, 65, 25, 43, 91, 52, 97, 51, 14],\n",
    "[70, 11, 33, 28, 77, 73, 17, 78, 39, 68, 17, 57],\n",
    "[91, 71, 52, 38, 17, 14, 91, 43, 58, 50, 27, 29, 48],\n",
    "[63, 66, 4, 68, 89, 53, 67, 30, 73, 16, 69, 87, 40, 31],\n",
    "[4, 62, 98, 27, 23, 9, 70, 98, 73, 93, 38, 53, 60, 4, 23]]\n",
    "\n",
    "\n",
    "for row in range(-2, -(len(triangle) + 1), -1):\n",
    "    for ind, val in enumerate(triangle[row]):\n",
    "        triangle[row][ind] = val + max(triangle[row + 1][ind], triangle[row + 1][ind + 1])\n",
    "\n",
    "print(triangle[0][0]) # Much more efficient than brute forcing, with O(number of entries) instead of O(2^(height of triangle - 1))\n",
    "\n",
    "# The answer is 1074"
   ]
  }
 ],
 "metadata": {
  "kernelspec": {
   "display_name": "Python 3.10.7 64-bit (microsoft store)",
   "language": "python",
   "name": "python3"
  },
  "language_info": {
   "codemirror_mode": {
    "name": "ipython",
    "version": 3
   },
   "file_extension": ".py",
   "mimetype": "text/x-python",
   "name": "python",
   "nbconvert_exporter": "python",
   "pygments_lexer": "ipython3",
   "version": "3.10.7"
  },
  "orig_nbformat": 4,
  "vscode": {
   "interpreter": {
    "hash": "a6104e308a003bf062b9a73849148369c6a8f002817f78c40118f89f3c9f6190"
   }
  }
 },
 "nbformat": 4,
 "nbformat_minor": 2
}
